{
 "cells": [
  {
   "cell_type": "code",
   "execution_count": 1,
   "id": "6e66762d",
   "metadata": {},
   "outputs": [],
   "source": [
    "import requests\n",
    "from bs4 import BeautifulSoup as bs\n",
    "from pprint import pprint\n",
    "import pandas as pd\n",
    "from time import sleep"
   ]
  },
  {
   "cell_type": "code",
   "execution_count": 2,
   "id": "d8e488f3",
   "metadata": {},
   "outputs": [],
   "source": [
    "url='https://www.superjob.ru/vacancy/search/'\n",
    "headers={\n",
    "    'User-Agent': 'Mozilla/5.0 (Windows NT 10.0; Win64; x64; rv:109.0) Gecko/20100101 Firefox/110.0',\n",
    "}\n",
    "params = {\n",
    "        'keywords': 'Python', \\\n",
    "        'page': ''\n",
    "    }\n",
    " "
   ]
  },
  {
   "cell_type": "code",
   "execution_count": 3,
   "id": "334a10ec",
   "metadata": {},
   "outputs": [],
   "source": [
    "response = requests.get(url, params=params, headers=headers)"
   ]
  },
  {
   "cell_type": "code",
   "execution_count": 4,
   "id": "c6713440",
   "metadata": {},
   "outputs": [],
   "source": [
    "vacancy_date=[] \n",
    "for i in range(0, 3):\n",
    "        params['page'] = i\n",
    "        html = requests.get(url, params=params, headers=headers)\n",
    "        parsed_html = bs(html.text,'html.parser')\n",
    "        vacancy_items = parsed_html.find_all('div', {'class': 'f-test-vacancy-item'})\n",
    "        for item in vacancy_items:\n",
    "                vacancy_date.append(item)\n",
    "        sleep(1)   \n",
    "    ##1"
   ]
  },
  {
   "cell_type": "code",
   "execution_count": 87,
   "id": "d8c7f5cc",
   "metadata": {},
   "outputs": [
    {
     "data": {
      "text/plain": [
       "84"
      ]
     },
     "execution_count": 87,
     "metadata": {},
     "output_type": "execute_result"
    }
   ],
   "source": [
    "vacancy_base_str = []\n",
    "for i in range(len(vacancy_date)):\n",
    "    vacancy_name=vacancy_date[i].find_all('a')\n",
    "    ##vacancy_base['vacancy_name']= vacancy_name[0].getText()\n",
    "    vacancy_base_str.append(vacancy_name[0].getText())\n",
    "\n",
    "    \n",
    "\n",
    "len(vacancy_base_str)"
   ]
  },
  {
   "cell_type": "code",
   "execution_count": 89,
   "id": "a98583e1",
   "metadata": {},
   "outputs": [
    {
     "data": {
      "text/plain": [
       "84"
      ]
     },
     "execution_count": 89,
     "metadata": {},
     "output_type": "execute_result"
    }
   ],
   "source": [
    "company_name_str=[]\n",
    "for i in range(len(vacancy_date)):\n",
    "    company_name = vacancy_date[i].find('span', {'class': 'f-test-text-vacancy-item-company-name'})\n",
    "    try:  \n",
    "        if not company_name:\n",
    "            company_name = vacancy_date.findParent() \\\n",
    "                            .find('span', {'class': 'f-test-text-vacancy-item-company-name'}) \\\n",
    "                            .getText()\n",
    "        else:\n",
    "            company_name = company_name.getText()\n",
    "            company_name_str.append(company_name)         \n",
    "    except:  \n",
    "        company_name_str.append('NoN')\n",
    "\n",
    "len(company_name_str)"
   ]
  },
  {
   "cell_type": "code",
   "execution_count": 90,
   "id": "b03f0b9a",
   "metadata": {},
   "outputs": [
    {
     "data": {
      "text/plain": [
       "84"
      ]
     },
     "execution_count": 90,
     "metadata": {},
     "output_type": "execute_result"
    }
   ],
   "source": [
    "company_location_str=[]\n",
    "for i in range(len(vacancy_date)):\n",
    "    company_location = vacancy_date[i].find('span', {'class': 'f-test-text-company-item-location'}) \\\n",
    "                            .findChildren()[1] \\\n",
    "                            .getText() \\\n",
    "                            .split(',')\n",
    "    company_location_str.append(company_location)\n",
    "len(company_location_str)"
   ]
  },
  {
   "cell_type": "code",
   "execution_count": 93,
   "id": "c57493f5",
   "metadata": {},
   "outputs": [
    {
     "data": {
      "text/plain": [
       "84"
      ]
     },
     "execution_count": 93,
     "metadata": {},
     "output_type": "execute_result"
    }
   ],
   "source": [
    "salary_str=[]\n",
    "for i in range(len(vacancy_date)):\n",
    "    salary = vacancy_date[i].find('div', {'class': 'f-test-text-company-item-salary'}) \\\n",
    "                  .findChildren()\n",
    "    salary = salary[0].getText().replace(u'\\xa0', u'')\n",
    "    salary_str.append(salary)\n",
    "    \n",
    "\n",
    "len(salary_str)"
   ]
  },
  {
   "cell_type": "code",
   "execution_count": 96,
   "id": "0123ebf5",
   "metadata": {},
   "outputs": [
    {
     "data": {
      "text/html": [
       "<div>\n",
       "<style scoped>\n",
       "    .dataframe tbody tr th:only-of-type {\n",
       "        vertical-align: middle;\n",
       "    }\n",
       "\n",
       "    .dataframe tbody tr th {\n",
       "        vertical-align: top;\n",
       "    }\n",
       "\n",
       "    .dataframe thead th {\n",
       "        text-align: right;\n",
       "    }\n",
       "</style>\n",
       "<table border=\"1\" class=\"dataframe\">\n",
       "  <thead>\n",
       "    <tr style=\"text-align: right;\">\n",
       "      <th></th>\n",
       "      <th>vacancy_name</th>\n",
       "      <th>company_name</th>\n",
       "      <th>company_location</th>\n",
       "      <th>salary</th>\n",
       "    </tr>\n",
       "  </thead>\n",
       "  <tbody>\n",
       "    <tr>\n",
       "      <th>0</th>\n",
       "      <td>Эксперт (SQL, Python) в отдел разработки систе...</td>\n",
       "      <td>Банк ВТБ</td>\n",
       "      <td>[Москва]</td>\n",
       "      <td>По договорённости</td>\n",
       "    </tr>\n",
       "    <tr>\n",
       "      <th>1</th>\n",
       "      <td>Специалист технической поддержки</td>\n",
       "      <td>Яндекс</td>\n",
       "      <td>[Москва]</td>\n",
       "      <td>от15000₽</td>\n",
       "    </tr>\n",
       "    <tr>\n",
       "      <th>2</th>\n",
       "      <td>Сервис-инженер</td>\n",
       "      <td>Интелтел</td>\n",
       "      <td>[Москва]</td>\n",
       "      <td>от60000₽</td>\n",
       "    </tr>\n",
       "    <tr>\n",
       "      <th>3</th>\n",
       "      <td>Аналитик данных</td>\n",
       "      <td>Сбербанк</td>\n",
       "      <td>[Москва]</td>\n",
       "      <td>По договорённости</td>\n",
       "    </tr>\n",
       "    <tr>\n",
       "      <th>4</th>\n",
       "      <td>Разработчик кастомизации и внедрения</td>\n",
       "      <td>ДИНАМИЧЕСКИЕ СИСТЕМЫ</td>\n",
       "      <td>[Москва]</td>\n",
       "      <td>По договорённости</td>\n",
       "    </tr>\n",
       "    <tr>\n",
       "      <th>...</th>\n",
       "      <td>...</td>\n",
       "      <td>...</td>\n",
       "      <td>...</td>\n",
       "      <td>...</td>\n",
       "    </tr>\n",
       "    <tr>\n",
       "      <th>79</th>\n",
       "      <td>Специалист по рыночным рискам</td>\n",
       "      <td>NoN</td>\n",
       "      <td>[Москва]</td>\n",
       "      <td>По договорённости</td>\n",
       "    </tr>\n",
       "    <tr>\n",
       "      <th>80</th>\n",
       "      <td>Разработчик ABAP</td>\n",
       "      <td>ИК СИБИНТЕК</td>\n",
       "      <td>[Волгоград]</td>\n",
       "      <td>По договорённости</td>\n",
       "    </tr>\n",
       "    <tr>\n",
       "      <th>81</th>\n",
       "      <td>Инженер-электронщик</td>\n",
       "      <td>Friendwork</td>\n",
       "      <td>[Долгопрудный]</td>\n",
       "      <td>от100000₽</td>\n",
       "    </tr>\n",
       "    <tr>\n",
       "      <th>82</th>\n",
       "      <td>Инженер-программист</td>\n",
       "      <td>Friendwork</td>\n",
       "      <td>[Долгопрудный]</td>\n",
       "      <td>от100000₽</td>\n",
       "    </tr>\n",
       "    <tr>\n",
       "      <th>83</th>\n",
       "      <td>Инженер-программист встраиваемых систем</td>\n",
       "      <td>Friendwork</td>\n",
       "      <td>[Долгопрудный]</td>\n",
       "      <td>от100000₽</td>\n",
       "    </tr>\n",
       "  </tbody>\n",
       "</table>\n",
       "<p>84 rows × 4 columns</p>\n",
       "</div>"
      ],
      "text/plain": [
       "                                         vacancy_name          company_name  \\\n",
       "0   Эксперт (SQL, Python) в отдел разработки систе...              Банк ВТБ   \n",
       "1                    Специалист технической поддержки                Яндекс   \n",
       "2                                      Сервис-инженер              Интелтел   \n",
       "3                                     Аналитик данных              Сбербанк   \n",
       "4                Разработчик кастомизации и внедрения  ДИНАМИЧЕСКИЕ СИСТЕМЫ   \n",
       "..                                                ...                   ...   \n",
       "79                      Специалист по рыночным рискам                   NoN   \n",
       "80                                   Разработчик ABAP           ИК СИБИНТЕК   \n",
       "81                                Инженер-электронщик            Friendwork   \n",
       "82                                Инженер-программист            Friendwork   \n",
       "83            Инженер-программист встраиваемых систем            Friendwork   \n",
       "\n",
       "   company_location             salary  \n",
       "0          [Москва]  По договорённости  \n",
       "1          [Москва]           от15000₽  \n",
       "2          [Москва]           от60000₽  \n",
       "3          [Москва]  По договорённости  \n",
       "4          [Москва]  По договорённости  \n",
       "..              ...                ...  \n",
       "79         [Москва]  По договорённости  \n",
       "80      [Волгоград]  По договорённости  \n",
       "81   [Долгопрудный]          от100000₽  \n",
       "82   [Долгопрудный]          от100000₽  \n",
       "83   [Долгопрудный]          от100000₽  \n",
       "\n",
       "[84 rows x 4 columns]"
      ]
     },
     "execution_count": 96,
     "metadata": {},
     "output_type": "execute_result"
    }
   ],
   "source": [
    "df = pd.DataFrame(list(zip( vacancy_base_str, company_name_str,company_location_str,salary_str )), columns = ['vacancy_name', 'company_name','company_location','salary' ])\n",
    "df"
   ]
  }
 ],
 "metadata": {
  "kernelspec": {
   "display_name": "Python 3 (ipykernel)",
   "language": "python",
   "name": "python3"
  },
  "language_info": {
   "codemirror_mode": {
    "name": "ipython",
    "version": 3
   },
   "file_extension": ".py",
   "mimetype": "text/x-python",
   "name": "python",
   "nbconvert_exporter": "python",
   "pygments_lexer": "ipython3",
   "version": "3.9.7"
  }
 },
 "nbformat": 4,
 "nbformat_minor": 5
}
