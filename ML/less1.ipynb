{
 "cells": [
  {
   "cell_type": "code",
   "execution_count": 1,
   "id": "dca4323f",
   "metadata": {},
   "outputs": [],
   "source": [
    "import requests\n",
    "from pprint import pprint\n",
    "import json"
   ]
  },
  {
   "cell_type": "code",
   "execution_count": 2,
   "id": "04b8b9c4",
   "metadata": {},
   "outputs": [],
   "source": [
    "response = requests.get(\"https://api.github.com/graphql\")"
   ]
  },
  {
   "cell_type": "code",
   "execution_count": 3,
   "id": "4b0316af",
   "metadata": {},
   "outputs": [
    {
     "name": "stdout",
     "output_type": "stream",
     "text": [
      "Заголовки: \n",
      " {'Date': 'Tue, 14 Feb 2023 21:34:50 GMT', 'Server': 'Varnish', 'Strict-Transport-Security': 'max-age=31536000; includeSubdomains; preload', 'X-Content-Type-Options': 'nosniff', 'X-Frame-Options': 'deny', 'X-XSS-Protection': '1; mode=block', 'Content-Security-Policy': \"default-src 'none'; style-src 'unsafe-inline'\", 'Access-Control-Allow-Origin': '*', 'Access-Control-Expose-Headers': 'ETag, Link, Location, Retry-After, X-GitHub-OTP, X-RateLimit-Limit, X-RateLimit-Remaining, X-RateLimit-Reset, X-RateLimit-Used, X-RateLimit-Resource, X-OAuth-Scopes, X-Accepted-OAuth-Scopes, X-Poll-Interval, X-GitHub-Media-Type, Deprecation, Sunset', 'Content-Type': 'application/json; charset=utf-8', 'Referrer-Policy': 'origin-when-cross-origin, strict-origin-when-cross-origin', 'X-GitHub-Media-Type': 'github.v3; format=json', 'X-RateLimit-Limit': '0', 'X-RateLimit-Remaining': '0', 'X-RateLimit-Reset': '1676414013', 'X-RateLimit-Resource': 'graphql', 'X-RateLimit-Used': '0', 'Content-Length': '280', 'X-GitHub-Request-Id': '3C0C:32D0:43C2AB5:44D4CFE:63EBFE7A'}\n"
     ]
    }
   ],
   "source": [
    "print('Заголовки: \\n',  response.headers)"
   ]
  },
  {
   "cell_type": "code",
   "execution_count": 4,
   "id": "9b707bf2",
   "metadata": {},
   "outputs": [],
   "source": [
    "url = 'https://api.github.com'\n",
    "user='dimad88'"
   ]
  },
  {
   "cell_type": "code",
   "execution_count": 5,
   "id": "3cb1c1c9",
   "metadata": {},
   "outputs": [],
   "source": [
    "response = requests.get(f'{url}/users/{user}/repos')\n",
    "name=response.json()"
   ]
  },
  {
   "cell_type": "code",
   "execution_count": 6,
   "id": "3c1b9dac",
   "metadata": {},
   "outputs": [
    {
     "name": "stdout",
     "output_type": "stream",
     "text": [
      "geek\n",
      "project\n",
      "python\n",
      "repo1\n"
     ]
    }
   ],
   "source": [
    "for i in name:\n",
    "    print(i['name'])"
   ]
  },
  {
   "cell_type": "code",
   "execution_count": 7,
   "id": "c637df63",
   "metadata": {},
   "outputs": [],
   "source": [
    "with open('pars_less1.json', 'w') as f:\n",
    "    json.dump(response.json(), f)"
   ]
  }
 ],
 "metadata": {
  "kernelspec": {
   "display_name": "Python 3 (ipykernel)",
   "language": "python",
   "name": "python3"
  },
  "language_info": {
   "codemirror_mode": {
    "name": "ipython",
    "version": 3
   },
   "file_extension": ".py",
   "mimetype": "text/x-python",
   "name": "python",
   "nbconvert_exporter": "python",
   "pygments_lexer": "ipython3",
   "version": "3.9.7"
  }
 },
 "nbformat": 4,
 "nbformat_minor": 5
}
