{
 "cells": [
  {
   "cell_type": "code",
   "execution_count": 1,
   "id": "073787bb",
   "metadata": {},
   "outputs": [],
   "source": [
    "from pymongo import MongoClient\n",
    "from pprint import pprint\n",
    "import pandas as pd\n",
    "\n"
   ]
  },
  {
   "cell_type": "code",
   "execution_count": 2,
   "id": "3e8b9f04",
   "metadata": {},
   "outputs": [
    {
     "data": {
      "text/plain": [
       "MongoClient(host=['localhost:27017'], document_class=dict, tz_aware=False, connect=True)"
      ]
     },
     "execution_count": 2,
     "metadata": {},
     "output_type": "execute_result"
    }
   ],
   "source": [
    "client=MongoClient()\n",
    "client"
   ]
  },
  {
   "cell_type": "code",
   "execution_count": 4,
   "id": "25a359f9",
   "metadata": {},
   "outputs": [
    {
     "data": {
      "text/html": [
       "<div>\n",
       "<style scoped>\n",
       "    .dataframe tbody tr th:only-of-type {\n",
       "        vertical-align: middle;\n",
       "    }\n",
       "\n",
       "    .dataframe tbody tr th {\n",
       "        vertical-align: top;\n",
       "    }\n",
       "\n",
       "    .dataframe thead th {\n",
       "        text-align: right;\n",
       "    }\n",
       "</style>\n",
       "<table border=\"1\" class=\"dataframe\">\n",
       "  <thead>\n",
       "    <tr style=\"text-align: right;\">\n",
       "      <th></th>\n",
       "      <th>vacancy_name</th>\n",
       "      <th>company_name</th>\n",
       "      <th>company_location</th>\n",
       "      <th>salary</th>\n",
       "    </tr>\n",
       "  </thead>\n",
       "  <tbody>\n",
       "    <tr>\n",
       "      <th>0</th>\n",
       "      <td>Эксперт (SQL, Python) в отдел разработки систе...</td>\n",
       "      <td>Банк ВТБ</td>\n",
       "      <td>['Москва']</td>\n",
       "      <td>По договорённости</td>\n",
       "    </tr>\n",
       "    <tr>\n",
       "      <th>1</th>\n",
       "      <td>Разработчик кастомизации и внедрения</td>\n",
       "      <td>ДИНАМИЧЕСКИЕ СИСТЕМЫ</td>\n",
       "      <td>['Москва']</td>\n",
       "      <td>По договорённости</td>\n",
       "    </tr>\n",
       "    <tr>\n",
       "      <th>2</th>\n",
       "      <td>DevOps Engineer</td>\n",
       "      <td>SuperJob</td>\n",
       "      <td>['Москва']</td>\n",
       "      <td>По договорённости</td>\n",
       "    </tr>\n",
       "    <tr>\n",
       "      <th>3</th>\n",
       "      <td>Руководитель аналитического отдела</td>\n",
       "      <td>Альпинтех</td>\n",
       "      <td>['Москва']</td>\n",
       "      <td>от200000₽</td>\n",
       "    </tr>\n",
       "    <tr>\n",
       "      <th>4</th>\n",
       "      <td>Senior 1С программист</td>\n",
       "      <td>АЛЬФАСКЛАД</td>\n",
       "      <td>['Москва']</td>\n",
       "      <td>до200000₽</td>\n",
       "    </tr>\n",
       "    <tr>\n",
       "      <th>...</th>\n",
       "      <td>...</td>\n",
       "      <td>...</td>\n",
       "      <td>...</td>\n",
       "      <td>...</td>\n",
       "    </tr>\n",
       "    <tr>\n",
       "      <th>78</th>\n",
       "      <td>Специалист по рыночным рискам</td>\n",
       "      <td>NoN</td>\n",
       "      <td>['Москва']</td>\n",
       "      <td>По договорённости</td>\n",
       "    </tr>\n",
       "    <tr>\n",
       "      <th>79</th>\n",
       "      <td>Разработчик ABAP</td>\n",
       "      <td>ИК СИБИНТЕК</td>\n",
       "      <td>['Волгоград']</td>\n",
       "      <td>По договорённости</td>\n",
       "    </tr>\n",
       "    <tr>\n",
       "      <th>80</th>\n",
       "      <td>Инженер-электронщик</td>\n",
       "      <td>Friendwork</td>\n",
       "      <td>['Долгопрудный']</td>\n",
       "      <td>от100000₽</td>\n",
       "    </tr>\n",
       "    <tr>\n",
       "      <th>81</th>\n",
       "      <td>Инженер-программист</td>\n",
       "      <td>Friendwork</td>\n",
       "      <td>['Долгопрудный']</td>\n",
       "      <td>от100000₽</td>\n",
       "    </tr>\n",
       "    <tr>\n",
       "      <th>82</th>\n",
       "      <td>Инженер-программист встраиваемых систем</td>\n",
       "      <td>Friendwork</td>\n",
       "      <td>['Долгопрудный']</td>\n",
       "      <td>от100000₽</td>\n",
       "    </tr>\n",
       "  </tbody>\n",
       "</table>\n",
       "<p>83 rows × 4 columns</p>\n",
       "</div>"
      ],
      "text/plain": [
       "                                         vacancy_name          company_name  \\\n",
       "0   Эксперт (SQL, Python) в отдел разработки систе...              Банк ВТБ   \n",
       "1                Разработчик кастомизации и внедрения  ДИНАМИЧЕСКИЕ СИСТЕМЫ   \n",
       "2                                     DevOps Engineer              SuperJob   \n",
       "3                  Руководитель аналитического отдела             Альпинтех   \n",
       "4                               Senior 1С программист            АЛЬФАСКЛАД   \n",
       "..                                                ...                   ...   \n",
       "78                      Специалист по рыночным рискам                   NoN   \n",
       "79                                   Разработчик ABAP           ИК СИБИНТЕК   \n",
       "80                                Инженер-электронщик            Friendwork   \n",
       "81                                Инженер-программист            Friendwork   \n",
       "82            Инженер-программист встраиваемых систем            Friendwork   \n",
       "\n",
       "    company_location             salary  \n",
       "0         ['Москва']  По договорённости  \n",
       "1         ['Москва']  По договорённости  \n",
       "2         ['Москва']  По договорённости  \n",
       "3         ['Москва']          от200000₽  \n",
       "4         ['Москва']          до200000₽  \n",
       "..               ...                ...  \n",
       "78        ['Москва']  По договорённости  \n",
       "79     ['Волгоград']  По договорённости  \n",
       "80  ['Долгопрудный']          от100000₽  \n",
       "81  ['Долгопрудный']          от100000₽  \n",
       "82  ['Долгопрудный']          от100000₽  \n",
       "\n",
       "[83 rows x 4 columns]"
      ]
     },
     "execution_count": 4,
     "metadata": {},
     "output_type": "execute_result"
    }
   ],
   "source": [
    "df=pd.read_csv('d.csv')\n",
    "df"
   ]
  },
  {
   "cell_type": "code",
   "execution_count": 44,
   "id": "59ae084e",
   "metadata": {},
   "outputs": [],
   "source": [
    "list_vacancy=[]\n",
    "for i in range(len(df)):\n",
    "    ss=df.iloc[i]\n",
    "    sss={}\n",
    "    sss['vacancy_name']=ss['vacancy_name']\n",
    "    sss['company_name']=ss['company_name']\n",
    "    sss['company_location']=ss['company_location']\n",
    "    sss['salary']=ss['salary']\n",
    "    list_vacancy.append(sss)\n",
    "  "
   ]
  },
  {
   "cell_type": "code",
   "execution_count": 49,
   "id": "d6c08c86",
   "metadata": {},
   "outputs": [
    {
     "data": {
      "text/plain": [
       "Database(MongoClient(host=['localhost:27017'], document_class=dict, tz_aware=False, connect=True), 'db')"
      ]
     },
     "execution_count": 49,
     "metadata": {},
     "output_type": "execute_result"
    }
   ],
   "source": [
    "client['db']\n"
   ]
  },
  {
   "cell_type": "code",
   "execution_count": 50,
   "id": "fae968ad",
   "metadata": {},
   "outputs": [],
   "source": [
    "db=client['db']"
   ]
  },
  {
   "cell_type": "code",
   "execution_count": 51,
   "id": "028d28c5",
   "metadata": {},
   "outputs": [
    {
     "data": {
      "text/plain": [
       "<pymongo.results.InsertManyResult at 0x1ed3474e0a0>"
      ]
     },
     "execution_count": 51,
     "metadata": {},
     "output_type": "execute_result"
    }
   ],
   "source": [
    "db.job.insert_many(list_vacancy)"
   ]
  },
  {
   "cell_type": "code",
   "execution_count": null,
   "id": "b2035fda",
   "metadata": {},
   "outputs": [],
   "source": []
  },
  {
   "cell_type": "code",
   "execution_count": null,
   "id": "c64bf09e",
   "metadata": {},
   "outputs": [],
   "source": []
  }
 ],
 "metadata": {
  "kernelspec": {
   "display_name": "Python 3 (ipykernel)",
   "language": "python",
   "name": "python3"
  },
  "language_info": {
   "codemirror_mode": {
    "name": "ipython",
    "version": 3
   },
   "file_extension": ".py",
   "mimetype": "text/x-python",
   "name": "python",
   "nbconvert_exporter": "python",
   "pygments_lexer": "ipython3",
   "version": "3.9.7"
  }
 },
 "nbformat": 4,
 "nbformat_minor": 5
}
