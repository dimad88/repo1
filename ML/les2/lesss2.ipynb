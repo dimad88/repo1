{
 "cells": [
  {
   "cell_type": "code",
   "execution_count": 1,
   "id": "9d498422",
   "metadata": {},
   "outputs": [],
   "source": [
    "from pprint import pprint\n",
    "from lxml import html\n",
    "import requests\n"
   ]
  },
  {
   "cell_type": "code",
   "execution_count": 2,
   "id": "260daf1c",
   "metadata": {},
   "outputs": [],
   "source": [
    "url='https://lenta.ru'\n",
    "headers={\n",
    "    'User-Agent': 'Mozilla/5.0 (Windows NT 10.0; Win64; x64; rv:109.0) Gecko/20100101 Firefox/110.0',\n",
    "}"
   ]
  },
  {
   "cell_type": "code",
   "execution_count": 3,
   "id": "89194feb",
   "metadata": {},
   "outputs": [],
   "source": [
    "response=requests.get(url,headers=headers)"
   ]
  },
  {
   "cell_type": "code",
   "execution_count": 4,
   "id": "76729c31",
   "metadata": {},
   "outputs": [],
   "source": [
    "root = html.fromstring(response.text) "
   ]
  },
  {
   "cell_type": "code",
   "execution_count": 5,
   "id": "43ddda6e",
   "metadata": {},
   "outputs": [],
   "source": [
    "title = root.xpath(\"//div[@class='topnews__column']/a/div/span/text()\")"
   ]
  },
  {
   "cell_type": "code",
   "execution_count": 6,
   "id": "7976bf40",
   "metadata": {},
   "outputs": [],
   "source": [
    "\n",
    "link = root.xpath(\"//div[@class='topnews__column']/a/@href\")"
   ]
  },
  {
   "cell_type": "code",
   "execution_count": 7,
   "id": "3600ab2c",
   "metadata": {},
   "outputs": [],
   "source": [
    "x=[]\n",
    "for i in range(len(link)):\n",
    "    x.append(url+link[i])\n",
    "    i+1"
   ]
  },
  {
   "cell_type": "code",
   "execution_count": 8,
   "id": "9c530adb",
   "metadata": {},
   "outputs": [],
   "source": [
    "news=[list(tup) for tup in zip(title, x)]"
   ]
  },
  {
   "cell_type": "code",
   "execution_count": 9,
   "id": "889dc55d",
   "metadata": {},
   "outputs": [],
   "source": [
    "def lenta_news(xpath_title,xpath_link):\n",
    "    url='https://lenta.ru'\n",
    "    headers={\n",
    "    'User-Agent': 'Mozilla/5.0 (Windows NT 10.0; Win64; x64; rv:109.0) Gecko/20100101 Firefox/110.0',\n",
    "    }\n",
    "    response=requests.get(url,headers=headers)\n",
    "    root = html.fromstring(response.text) \n",
    "    title = root.xpath(xpath_title)\n",
    "    link = root.xpath(xpath_link)\n",
    "    x=[]\n",
    "    for i in range(len(link)):\n",
    "        x.append(url+link[i])\n",
    "        i+1\n",
    "    news=[list(tup) for tup in zip(title, x)]\n",
    "    return news"
   ]
  },
  {
   "cell_type": "code",
   "execution_count": 10,
   "id": "821da079",
   "metadata": {},
   "outputs": [
    {
     "name": "stdout",
     "output_type": "stream",
     "text": [
      "[['В Германии сожгли декларацию на пожертвования «Газпрома»',\n",
      "  'https://lenta.ru/news/2023/02/24/deklaracia/'],\n",
      " ['В США оценили возможность начала третьей мировой войны из-за ситуации на '\n",
      "  'Украине',\n",
      "  'https://lenta.ru/news/2023/02/24/conflict/'],\n",
      " ['Экс-сотрудник ЦРУ призвал США взять ответственность за подрыв «Северных '\n",
      "  'потоков»',\n",
      "  'https://lenta.ru/news/2023/02/24/responsibility/'],\n",
      " ['«Манчестер Юнайтед» вышел в 1/8 финала Лиги Европы',\n",
      "  'https://lenta.ru/news/2023/02/24/barcelona_manchesterunited/'],\n",
      " ['США начали наращивать производство боеприпасов для поставок Украине',\n",
      "  'https://lenta.ru/news/2023/02/24/postavki/'],\n",
      " ['Во Франции заявили об удивительной стойкости экономики России под санкциями',\n",
      "  'https://lenta.ru/news/2023/02/24/ekonomika/'],\n",
      " ['В Госдепе оценили план Китая для мира на Украине',\n",
      "  'https://lenta.ru/news/2023/02/24/skepsis/'],\n",
      " ['Генассамблея ООН приняла антироссийскую резолюцию по Украине',\n",
      "  'https://lenta.ru/news/2023/02/24/resolution/'],\n",
      " ['В США назвали условие для переговоров по Украине',\n",
      "  'https://lenta.ru/news/2023/02/23/formula/'],\n",
      " ['Херш указал на непричастность России к подрыву «Северных потоков»',\n",
      "  'https://lenta.ru/news/2023/02/23/sp_rus/'],\n",
      " ['Специалисты рассказали о реальном влиянии кофе на бессонницу',\n",
      "  'https://lenta.ruhttps://moslenta.ru/news/lyudi/vliyanie-kofe-na-bessonnicu-23-02-2023.htm'],\n",
      " ['Журналист Херш назвал мотивы США для подрыва «Северных потоков»',\n",
      "  'https://lenta.ru/news/2023/02/23/reason/']]\n"
     ]
    }
   ],
   "source": [
    "a=\"//div[@class='topnews__column']/a/div/span/text()\"\n",
    "b=\"//div[@class='topnews__column']/a/@href\"\n",
    "pprint(lenta_news(a,b))"
   ]
  },
  {
   "cell_type": "code",
   "execution_count": null,
   "id": "f66096a5",
   "metadata": {},
   "outputs": [],
   "source": []
  },
  {
   "cell_type": "code",
   "execution_count": null,
   "id": "c91204f6",
   "metadata": {},
   "outputs": [],
   "source": []
  }
 ],
 "metadata": {
  "kernelspec": {
   "display_name": "Python 3 (ipykernel)",
   "language": "python",
   "name": "python3"
  },
  "language_info": {
   "codemirror_mode": {
    "name": "ipython",
    "version": 3
   },
   "file_extension": ".py",
   "mimetype": "text/x-python",
   "name": "python",
   "nbconvert_exporter": "python",
   "pygments_lexer": "ipython3",
   "version": "3.9.7"
  }
 },
 "nbformat": 4,
 "nbformat_minor": 5
}
