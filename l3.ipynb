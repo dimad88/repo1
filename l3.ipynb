{
 "cells": [
  {
   "cell_type": "code",
   "execution_count": 1,
   "id": "38042829",
   "metadata": {},
   "outputs": [],
   "source": [
    "import numpy as np\n",
    "import pandas as pd\n",
    "import matplotlib.pyplot as plt\n",
    "import seaborn as sns\n",
    "import math"
   ]
  },
  {
   "cell_type": "code",
   "execution_count": 2,
   "id": "23f61bf4",
   "metadata": {},
   "outputs": [],
   "source": [
    "###Задание 1"
   ]
  },
  {
   "cell_type": "code",
   "execution_count": 3,
   "id": "d9547896",
   "metadata": {},
   "outputs": [
    {
     "data": {
      "text/plain": [
       "65.3"
      ]
     },
     "execution_count": 3,
     "metadata": {},
     "output_type": "execute_result"
    }
   ],
   "source": [
    "a=[100,80,75,77,89,33,45,25,65,17,30, 24, 57, 55, 70, 75, 65, 84, 90, 150]\n",
    "b_mean=sum(a)/len(a)\n",
    "b_mean"
   ]
  },
  {
   "cell_type": "code",
   "execution_count": 4,
   "id": "df9611fd",
   "metadata": {},
   "outputs": [
    {
     "data": {
      "text/plain": [
       "30.823854398825596"
      ]
     },
     "execution_count": 4,
     "metadata": {},
     "output_type": "execute_result"
    }
   ],
   "source": [
    "##среднее квадратичное\n",
    "b_1=[]\n",
    "for i in a:\n",
    "    b_1.append((i-b_mean)**2)\n",
    "b_std=math.sqrt(sum(b_1)/len(b_1))\n",
    "b_std\n"
   ]
  },
  {
   "cell_type": "code",
   "execution_count": 5,
   "id": "4547db90",
   "metadata": {},
   "outputs": [
    {
     "data": {
      "text/plain": [
       "950.11"
      ]
     },
     "execution_count": 5,
     "metadata": {},
     "output_type": "execute_result"
    }
   ],
   "source": [
    "##дисперсия\n",
    "b_var=sum(b_1)/len(b_1)\n",
    "b_var\n"
   ]
  },
  {
   "cell_type": "code",
   "execution_count": 6,
   "id": "e6670409",
   "metadata": {},
   "outputs": [
    {
     "data": {
      "text/plain": [
       "1000.1157894736842"
      ]
     },
     "execution_count": 6,
     "metadata": {},
     "output_type": "execute_result"
    }
   ],
   "source": [
    "##несмещенная оценка дисперсии\n",
    "b_var1=sum(b_1)/(len(b_1)-1)\n",
    "b_var1"
   ]
  },
  {
   "cell_type": "code",
   "execution_count": 7,
   "id": "4afccdaa",
   "metadata": {},
   "outputs": [
    {
     "name": "stdout",
     "output_type": "stream",
     "text": [
      "70\n"
     ]
    }
   ],
   "source": [
    "##медиана\n",
    "\n",
    "middle = int(len(b_1) / 2)\n",
    "sorted_a=sorted(a)\n",
    "print(sorted_a[middle])\n"
   ]
  },
  {
   "cell_type": "code",
   "execution_count": 8,
   "id": "369bc295",
   "metadata": {},
   "outputs": [],
   "source": [
    "df=pd.DataFrame(a, columns=['salary'])\n"
   ]
  },
  {
   "cell_type": "code",
   "execution_count": 9,
   "id": "b37b7f27",
   "metadata": {},
   "outputs": [
    {
     "name": "stderr",
     "output_type": "stream",
     "text": [
      "C:\\Users\\79094\\anaconda3\\lib\\site-packages\\seaborn\\_decorators.py:36: FutureWarning: Pass the following variable as a keyword arg: x. From version 0.12, the only valid positional argument will be `data`, and passing other arguments without an explicit keyword will result in an error or misinterpretation.\n",
      "  warnings.warn(\n",
      "C:\\Users\\79094\\anaconda3\\lib\\site-packages\\seaborn\\_core.py:1326: UserWarning: Vertical orientation ignored with only `x` specified.\n",
      "  warnings.warn(single_var_warning.format(\"Vertical\", \"x\"))\n"
     ]
    },
    {
     "data": {
      "image/png": "[encoded data removed]",
      "text/plain": [
       "<Figure size 432x288 with 1 Axes>"
      ]
     },
     "metadata": {
      "needs_background": "light"
     },
     "output_type": "display_data"
    }
   ],
   "source": [
    "sns.boxplot(df['salary'], orient='v')\n",
    "plt.show()"
   ]
  },
  {
   "attachments": {},
   "cell_type": "markdown",
   "id": "52159fd1",
   "metadata": {},
   "source": [
    "2. В первом ящике находится 8 мячей, из которых 5 белые. Во втором ящике 12 мячей, из которых 5 белые. Из первого ящика вытаскивают случайным образом 2 мяча, из второго 4. Какова вероятность того, что 3 мяча белые?\n",
    "\n",
    "Решение\n",
    "\t       1 ящик 2 ящик вероятность каждого варианта \n",
    "вариант 1\t 2\t    1             0,126263\n",
    "вариант 2\t 1\t    2             0,227273\n",
    "вариант 3\t 0\t    3             0,015152\n",
    "\n",
    "P\t0,368686869"
   ]
  },
  {
   "attachments": {},
   "cell_type": "markdown",
   "id": "02b769a1",
   "metadata": {},
   "source": [
    "3) В университет на факультеты A и B поступило равное количество студентов, а на факультет C студентов поступило столько же, сколько на A и B вместе. Вероятность того, что студент факультета A сдаст первую сессию, равна 0.8. Для студента факультета B эта вероятность равна 0.7, а для студента факультета C - 0.9. Студент сдал первую сессию. Какова вероятность, что он учится:\n",
    "a) на факультете A,\n",
    "б) на факультете B,\n",
    "в) на факультете C?\n",
    "\n",
    "Решение\n",
    "\n",
    "A\t0,825\n",
    "\t\n",
    "а)\t\n",
    "P\t0,242424242\n",
    "\t\n",
    "б)\t\n",
    "P\t0,212121212\n",
    "\t\n",
    "в)\t\n",
    "P\t0,545454545\n",
    "\n",
    "\n"
   ]
  },
  {
   "attachments": {},
   "cell_type": "markdown",
   "id": "a2c368c5",
   "metadata": {},
   "source": [
    "4) Устройство состоит из трех деталей. Для первой детали вероятность выйти из строя в первый месяц равна 0,1, для второй детали 0,2, для третей детали 0,25. Какова вероятность того что в первый месяц выйдут из строя : а) все детали б)только две детали в)хотя бы одна деталь г)от одной до двух деталей\n",
    "а)\t\n",
    "P\t0,005\n",
    "\t\n",
    "б)\t\n",
    "P\t0,08\n",
    "\t\n",
    "в)\t\n",
    "P ни один не выйдет\t0,54\n",
    "P хотя бы один\t0,46\n",
    "\t\n",
    "г)\t\n",
    "P одна деталь\t0,375\n",
    "P две детали\t0,08\n",
    "P от одной до двух\t0,455\n",
    "\n"
   ]
  },
  {
   "cell_type": "code",
   "execution_count": null,
   "id": "900df437",
   "metadata": {},
   "outputs": [],
   "source": []
  }
 ],
 "metadata": {
  "celltoolbar": "Необработанный формат ячейки",
  "kernelspec": {
   "display_name": "Python 3 (ipykernel)",
   "language": "python",
   "name": "python3"
  },
  "language_info": {
   "codemirror_mode": {
    "name": "ipython",
    "version": 3
   },
   "file_extension": ".py",
   "mimetype": "text/x-python",
   "name": "python",
   "nbconvert_exporter": "python",
   "pygments_lexer": "ipython3",
   "version": "3.9.7"
  }
 },
 "nbformat": 4,
 "nbformat_minor": 5
}
