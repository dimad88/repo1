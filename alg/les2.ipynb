{
 "cells": [
  {
   "cell_type": "code",
   "execution_count": 1,
   "id": "f4d2a250",
   "metadata": {},
   "outputs": [],
   "source": [
    "import numpy as np\n",
    "import matplotlib.pyplot as plt\n"
   ]
  },
  {
   "cell_type": "markdown",
   "id": "1c1db86c",
   "metadata": {},
   "source": [
    "2.Можно ли к одному и тому же признаку применить сразу и нормализацию, и стандартизацию?"
   ]
  },
  {
   "cell_type": "markdown",
   "id": "01773606",
   "metadata": {},
   "source": [
    "Да,можно"
   ]
  },
  {
   "cell_type": "markdown",
   "id": "6026cae6",
   "metadata": {},
   "source": [
    "3.Напишите функцию наподобие eval_model_reg2, но для применения L1-регуляризации"
   ]
  },
  {
   "cell_type": "code",
   "execution_count": 2,
   "id": "e3b2623d",
   "metadata": {},
   "outputs": [],
   "source": [
    "X = np.array([[1, 1, 1, 1, 1, 1, 1, 1, 1, 1],\n",
    "              [1, 1, 2, 5, 3, 0, 5, 10, 1, 2],\n",
    "              [500, 700, 750, 600, 1450, 800, 1500, 2000, 450, 1000],\n",
    "              [1, 1, 2, 1, 2, 1, 3, 3, 1, 2]])"
   ]
  },
  {
   "cell_type": "code",
   "execution_count": 3,
   "id": "3c53ffb3",
   "metadata": {},
   "outputs": [],
   "source": [
    "y = [45, 55, 50, 55, 60, 35, 75, 80, 50, 60]"
   ]
  },
  {
   "cell_type": "code",
   "execution_count": 4,
   "id": "2f1976e6",
   "metadata": {},
   "outputs": [],
   "source": [
    "def calc_mse(y, y_pred):\n",
    "    err = np.mean((y - y_pred)**2)\n",
    "    return err"
   ]
  },
  {
   "cell_type": "code",
   "execution_count": 5,
   "id": "053f2e28",
   "metadata": {},
   "outputs": [],
   "source": [
    "def standard_scale(X):\n",
    "    mean = X.mean(axis=0)\n",
    "    std = X.std(axis=0)\n",
    "    return (X - mean) / std"
   ]
  },
  {
   "cell_type": "code",
   "execution_count": 6,
   "id": "bd052af7",
   "metadata": {},
   "outputs": [
    {
     "data": {
      "text/plain": [
       "array([[  1.        ,  -0.57735027,  -0.57940718,  -0.58249071,\n",
       "         -0.57894479,  -0.57638682,  -0.58043426,  -0.58158972,\n",
       "         -0.57735027,  -0.57889218],\n",
       "       [  1.        ,  -0.57735027,  -0.57632113,  -0.5670349 ,\n",
       "         -0.57575501,  -0.57927597,  -0.57426353,  -0.57117319,\n",
       "         -0.57735027,  -0.57657893],\n",
       "       [500.        ,   1.73205081,   1.73204943,   1.73201633,\n",
       "          1.73204971,   1.7320496 ,   1.73204669,   1.73203785,\n",
       "          1.73205081,   1.73205004],\n",
       "       [  1.        ,  -0.57735027,  -0.57632113,  -0.58249071,\n",
       "         -0.5773499 ,  -0.57638682,  -0.5773489 ,  -0.57927494,\n",
       "         -0.57735027,  -0.57657893]])"
      ]
     },
     "execution_count": 6,
     "metadata": {},
     "output_type": "execute_result"
    }
   ],
   "source": [
    "X_st = X.copy().astype(np.float64)\n",
    "X_st[:, 1:10] = standard_scale(X_st[:, 1:10])\n",
    "X_st"
   ]
  },
  {
   "cell_type": "code",
   "execution_count": 32,
   "id": "05eaa3c7",
   "metadata": {},
   "outputs": [],
   "source": [
    "def eval_model_regl1(X, y, iterations, alpha=0.00001, lambda_=0.000001):\n",
    "    #np.random.seed(42)\n",
    "    W = np.random.randn(X.shape[0])\n",
    "    n = X.shape[1]\n",
    "    for i in range(0, iterations):\n",
    "        y_pred = np.dot(W, X)\n",
    "        err = calc_mse(y, y_pred)\n",
    "        W -= alpha * (1/n * 2 * np.dot((y_pred - y), X.T) + lambda_ * np.sign(W)) \n",
    "      #  if i % (iterations /10) == 0:\n",
    "        #    print(i, W, err)\n",
    "    return W"
   ]
  },
  {
   "cell_type": "code",
   "execution_count": 33,
   "id": "a376b18f",
   "metadata": {},
   "outputs": [
    {
     "name": "stderr",
     "output_type": "stream",
     "text": [
      "C:\\Users\\79094\\AppData\\Local\\Temp/ipykernel_27956/1493808047.py:2: RuntimeWarning: overflow encountered in square\n",
      "  err = np.mean((y - y_pred)**2)\n"
     ]
    },
    {
     "data": {
      "text/plain": [
       "array([-3.53866600e+298, -3.53913622e+298, -1.80199950e+301,\n",
       "       -3.53882041e+298])"
      ]
     },
     "execution_count": 33,
     "metadata": {},
     "output_type": "execute_result"
    }
   ],
   "source": [
    "eval_model_regl1(X_st,y,iterations=500, alpha=0.0001,lambda_=0.000001)"
   ]
  },
  {
   "cell_type": "markdown",
   "id": "0f4fffd2",
   "metadata": {},
   "source": [
    " 1 Постройте график зависимости весов всех признаков от lambda в L2-регуляризации на основе данных из урока."
   ]
  },
  {
   "cell_type": "code",
   "execution_count": 34,
   "id": "20323f0d",
   "metadata": {},
   "outputs": [
    {
     "name": "stdout",
     "output_type": "stream",
     "text": [
      "inf\n",
      "[-2.08728305e+298 -2.08756041e+298 -1.06290987e+301 -2.08737414e+298]\n",
      "[inf]\n",
      "0.001\n",
      "inf\n",
      "[2.98404337e+298 2.98443990e+298 1.51956830e+301 2.98417359e+298]\n",
      "[inf, inf]\n",
      "0.0001\n",
      "inf\n",
      "[-2.14403436e+298 -2.14431926e+298 -1.09180941e+301 -2.14412792e+298]\n",
      "[inf, inf, inf]\n",
      "1e-05\n",
      "inf\n",
      "[-2.39985112e+297 -2.40017001e+297 -1.22207931e+300 -2.39995584e+297]\n",
      "[inf, inf, inf, inf]\n",
      "1.0000000000000002e-06\n",
      "inf\n",
      "[-3.08810732e+297 -3.08851767e+297 -1.57256092e+300 -3.08824208e+297]\n",
      "[inf, inf, inf, inf, inf]\n",
      "1.0000000000000002e-07\n",
      "inf\n",
      "[2.12421903e+298 2.12450130e+298 1.08171883e+301 2.12431172e+298]\n",
      "[inf, inf, inf, inf, inf, inf]\n",
      "1.0000000000000002e-08\n",
      "inf\n",
      "[2.60166999e+298 2.60201570e+298 1.32485180e+301 2.60178352e+298]\n",
      "[inf, inf, inf, inf, inf, inf, inf]\n",
      "1.0000000000000003e-09\n",
      "inf\n",
      "[-6.01559114e+297 -6.01639050e+297 -3.06332732e+300 -6.01585364e+297]\n",
      "[inf, inf, inf, inf, inf, inf, inf, inf]\n",
      "1.0000000000000003e-10\n",
      "inf\n",
      "[-2.25475481e+298 -2.25505443e+298 -1.14819173e+301 -2.25485320e+298]\n",
      "[inf, inf, inf, inf, inf, inf, inf, inf, inf]\n",
      "1.0000000000000003e-11\n",
      "inf\n",
      "[-4.67676056e+298 -4.67738201e+298 -2.38155288e+301 -4.67696464e+298]\n",
      "[inf, inf, inf, inf, inf, inf, inf, inf, inf, inf]\n",
      "1.0000000000000002e-12\n"
     ]
    },
    {
     "name": "stderr",
     "output_type": "stream",
     "text": [
      "C:\\Users\\79094\\AppData\\Local\\Temp/ipykernel_27956/1493808047.py:2: RuntimeWarning: overflow encountered in square\n",
      "  err = np.mean((y - y_pred)**2)\n"
     ]
    }
   ],
   "source": [
    "lbm=[]\n",
    "norm=[]\n",
    "lb=0.01\n",
    "for i in range(0, 10):\n",
    "    \n",
    "    w=eval_model_regl1(X_st,y,iterations=500, alpha=0.0001,lambda_=lb)\n",
    "    b=np.linalg.norm(w, ord=None)\n",
    "    norm.append(b)\n",
    "    lbm.append(lb)\n",
    "    lb=lb/10\n",
    "    print(b)\n",
    "    print(w)\n",
    "    print(norm)\n",
    "    print(lb)"
   ]
  },
  {
   "cell_type": "code",
   "execution_count": null,
   "id": "05fc9689",
   "metadata": {},
   "outputs": [],
   "source": []
  }
 ],
 "metadata": {
  "kernelspec": {
   "display_name": "Python 3 (ipykernel)",
   "language": "python",
   "name": "python3"
  },
  "language_info": {
   "codemirror_mode": {
    "name": "ipython",
    "version": 3
   },
   "file_extension": ".py",
   "mimetype": "text/x-python",
   "name": "python",
   "nbconvert_exporter": "python",
   "pygments_lexer": "ipython3",
   "version": "3.9.7"
  }
 },
 "nbformat": 4,
 "nbformat_minor": 5
}
