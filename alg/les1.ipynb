{
 "cells": [
  {
   "cell_type": "code",
   "execution_count": 1,
   "id": "0ef2b63d",
   "metadata": {},
   "outputs": [],
   "source": [
    "import numpy as np\n",
    "import matplotlib.pyplot as plt\n",
    "from mpl_toolkits.mplot3d.axes3d import Axes3D"
   ]
  },
  {
   "cell_type": "markdown",
   "id": "243787cb",
   "metadata": {},
   "source": [
    " 1.Подберите скорость обучения (eta) и количество итераций"
   ]
  },
  {
   "cell_type": "code",
   "execution_count": 2,
   "id": "ad2f30dd",
   "metadata": {},
   "outputs": [],
   "source": [
    "def calc_mae(y, y_pred):\n",
    "    err = np.mean(np.abs(y - y_pred))\n",
    "    return err\n",
    "\n",
    "def calc_mse(y, y_pred):\n",
    "    err = np.mean((y - y_pred)**2)\n",
    "    return err"
   ]
  },
  {
   "cell_type": "code",
   "execution_count": 3,
   "id": "c91d8506",
   "metadata": {},
   "outputs": [],
   "source": [
    "X = np.array([[ 1,  1],\n",
    "              [ 1,  1],\n",
    "              [ 1,  2],\n",
    "              [ 1,  5],\n",
    "              [ 1,  3],\n",
    "              [ 1,  0],\n",
    "              [ 1,  5],\n",
    "              [ 1, 10],\n",
    "              [ 1,  1],\n",
    "              [ 1,  2]])\n",
    "y = [45, 55, 50, 55, 60, 35, 75, 80, 50, 60]"
   ]
  },
  {
   "cell_type": "code",
   "execution_count": 52,
   "id": "b5f59254",
   "metadata": {},
   "outputs": [
    {
     "name": "stdout",
     "output_type": "stream",
     "text": [
      "Number of objects = 10        \n",
      "Learning rate = 0.001        \n",
      "Initial weights = [10.   0.5] \n",
      "\n",
      "Iteration #0: W_new = [10.323  0.823], MSE = 2156.75\n",
      "Iteration #1000: W_new = [18.075  8.575], MSE = 386.71\n",
      "Iteration #2000: W_new = [18.075  8.575], MSE = 386.71\n",
      "Iteration #3000: W_new = [18.075  8.575], MSE = 386.71\n",
      "Iteration #4000: W_new = [18.075  8.575], MSE = 386.71\n",
      "Iteration #5000: W_new = [18.075  8.575], MSE = 386.71\n",
      "Iteration #6000: W_new = [18.075  8.575], MSE = 386.71\n",
      "Iteration #7000: W_new = [18.075  8.575], MSE = 386.71\n",
      "Iteration #8000: W_new = [18.075  8.575], MSE = 386.71\n",
      "Iteration #9000: W_new = [18.075  8.575], MSE = 386.71\n",
      "[ 26.65   26.65   35.225  60.95   43.8    18.075  60.95  103.825  26.65\n",
      "  35.225]\n"
     ]
    }
   ],
   "source": [
    "n = X.shape[0]\n",
    "\n",
    "eta = 0.001 \n",
    "n_iter = 10000\n",
    "min_weight_dist=1e-8\n",
    "\n",
    "W =np.array([10, 0.5])#np.random.normal(size=(X.shape[1]))\n",
    "#np.array([10, 0])\n",
    "print(f'Number of objects = {n} \\\n",
    "       \\nLearning rate = {eta} \\\n",
    "       \\nInitial weights = {W} \\n')\n",
    "new_W=np.array([0,0])\n",
    "for i in range(n_iter):\n",
    "    y_pred = np.dot(X, W)\n",
    "    err = calc_mse(y, y_pred)\n",
    "    #for k in range(W.shape[0]):\n",
    "    new_W =W - eta * 1/n * 2 * X[:, k] @ (y_pred - y)\n",
    "        #print(W)\n",
    "    #weight_dist=np.linalg.norm(new_W - W, ord=2)\n",
    "    W=new_W  \n",
    "    if i % 1000== 0:\n",
    "        eta /= 1.1\n",
    "        print(f'Iteration #{i}: W_new = {W}, MSE = {round(err, 2)}')\n",
    "print(y_pred)"
   ]
  },
  {
   "cell_type": "markdown",
   "id": "6928d744",
   "metadata": {},
   "source": [
    "2*. В этом коде мы избавляемся от итераций по весам, но тут есть ошибка, исправьте ее"
   ]
  },
  {
   "cell_type": "code",
   "execution_count": 69,
   "id": "5a5d3d97",
   "metadata": {},
   "outputs": [
    {
     "name": "stdout",
     "output_type": "stream",
     "text": [
      "Number of objects = 10        \n",
      "Learning rate = 0.0001        \n",
      "Initial weights = [1.  0.5] \n",
      "\n",
      "Iteration #0: W_new = [1.0377 0.5377], MSE = 3047.75\n",
      "Iteration #1000: W_new = [10.25443924  9.75443924], MSE = 614.85\n",
      "Iteration #2000: W_new = [10.42190103  9.92190103], MSE = 608.66\n",
      "Iteration #3000: W_new = [10.42494369  9.92494369], MSE = 608.56\n",
      "Iteration #4000: W_new = [10.42499898  9.92499898], MSE = 608.56\n",
      "Iteration #5000: W_new = [10.42499998  9.92499998], MSE = 608.56\n",
      "Iteration #6000: W_new = [10.425  9.925], MSE = 608.56\n",
      "Iteration #7000: W_new = [10.425  9.925], MSE = 608.56\n",
      "Iteration #8000: W_new = [10.425  9.925], MSE = 608.56\n",
      "Iteration #9000: W_new = [10.425  9.925], MSE = 608.56\n"
     ]
    }
   ],
   "source": [
    "n = X.shape[0]\n",
    "alpha = 0.0001\n",
    "W = np.array([1, 0.5])\n",
    "print(f'Number of objects = {n} \\\n",
    "       \\nLearning rate = {alpha} \\\n",
    "       \\nInitial weights = {W} \\n')\n",
    "\n",
    "for i in range(10000):\n",
    "    y_pred = np.dot(X, W)\n",
    "    err = calc_mse(y, y_pred)\n",
    "#     for k in range(W.shape[0]):\n",
    "#         W[k] -= alpha * (1/n * 2 * np.sum(X[k] * (y_pred - y)))\n",
    "    W_pred = W - alpha * 1/n * 2 * X[:, k] @ (y_pred - y)\n",
    "    W = W_pred\n",
    "    if i % 1000 == 0:\n",
    "        print(f'Iteration #{i}: W_new = {W}, MSE = {round(err,2)}')"
   ]
  },
  {
   "cell_type": "code",
   "execution_count": 66,
   "id": "07bc5839",
   "metadata": {},
   "outputs": [
    {
     "name": "stdout",
     "output_type": "stream",
     "text": [
      "10\n"
     ]
    }
   ],
   "source": []
  }
 ],
 "metadata": {
  "kernelspec": {
   "display_name": "Python 3 (ipykernel)",
   "language": "python",
   "name": "python3"
  },
  "language_info": {
   "codemirror_mode": {
    "name": "ipython",
    "version": 3
   },
   "file_extension": ".py",
   "mimetype": "text/x-python",
   "name": "python",
   "nbconvert_exporter": "python",
   "pygments_lexer": "ipython3",
   "version": "3.9.7"
  }
 },
 "nbformat": 4,
 "nbformat_minor": 5
}
