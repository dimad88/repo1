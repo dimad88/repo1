{
 "cells": [
  {
   "cell_type": "markdown",
   "id": "d6882cee",
   "metadata": {},
   "source": [
    "1.Случайная непрерывная величина A имеет равномерное распределение на промежутке (200, 800].\n",
    "Найдите ее среднее значение и дисперсию."
   ]
  },
  {
   "cell_type": "code",
   "execution_count": 7,
   "id": "7ebb2f41",
   "metadata": {},
   "outputs": [
    {
     "name": "stdout",
     "output_type": "stream",
     "text": [
      "M=500.0; D=30000.0\n"
     ]
    }
   ],
   "source": [
    "M=(200+800)/2\n",
    "D=(800-200)**2/12\n",
    "print(f'M={M}; D={D}')"
   ]
  },
  {
   "cell_type": "markdown",
   "id": "53859fee",
   "metadata": {},
   "source": [
    "2.О случайной непрерывной равномерно распределенной величине B известно, что ее дисперсия равна 0.2.\n",
    "Можно ли найти правую границу величины B и ее среднее значение зная, что левая граница равна 0.5?\n",
    "Если да, найдите ее."
   ]
  },
  {
   "cell_type": "markdown",
   "id": "e7fc913d",
   "metadata": {},
   "source": [
    "(b-0,5)^2/12=0,2\n",
    "x^2=2,4\n",
    "x=1,549193\n",
    "b-0,5=1,549193\n",
    "b=2,049193\n"
   ]
  },
  {
   "cell_type": "markdown",
   "id": "a88c4d4b",
   "metadata": {},
   "source": [
    "4.Рост взрослого населения города X имеет нормальное распределение.\n",
    "Причем, средний рост равен 174 см, а среднее квадратичное отклонение равно 8 см.\n",
    "Какова вероятность того, что случайным образом выбранный взрослый человек имеет рост:\n",
    "а). больше 182 см\n",
    "б). больше 190 см\n",
    "в). от 166 см до 190 см\n",
    "г). от 166 см до 182 см\n",
    "д). от 158 см до 190 см\n",
    "е). не выше 150 см или не ниже 190 см\n",
    "ё). не выше 150 см или не ниже 198 см\n",
    "ж). ниже 166 см.\n"
   ]
  },
  {
   "cell_type": "code",
   "execution_count": 11,
   "id": "03cd105b",
   "metadata": {},
   "outputs": [],
   "source": [
    "#Используем формулу нахождения вероятности попадания нормальной случайной величины в интервал\n",
    "#a\n",
    "P1=1-0.3413\n",
    "#б\n",
    "P2=1-0.4772\n",
    "#в\n",
    "P3=0.4772+0.3413\n",
    "#г\n",
    "P4=0.3413+0.3413\n",
    "#д\n",
    "P5=0.4772+0.4772\n",
    "#е\n",
    "P6=1-(0.4772+0.49865)\n",
    "#ё\n",
    "P7=1-(0.49865+0.49865)\n",
    "#ж\n",
    "P8=0.3413"
   ]
  },
  {
   "cell_type": "markdown",
   "id": "f69257e7",
   "metadata": {},
   "source": [
    "5.На сколько сигм (средних квадратичных отклонений) отклоняется рост человека, равный 190 см, от\n",
    "математического ожидания роста в популяции, в которой M(X) = 178 см и D(X) = 25 кв.см?"
   ]
  },
  {
   "cell_type": "code",
   "execution_count": 12,
   "id": "eeefd55e",
   "metadata": {},
   "outputs": [
    {
     "data": {
      "text/plain": [
       "2.4"
      ]
     },
     "execution_count": 12,
     "metadata": {},
     "output_type": "execute_result"
    }
   ],
   "source": [
    "Sigma=5\n",
    "Y=(190-178)/5\n",
    "Y"
   ]
  },
  {
   "cell_type": "code",
   "execution_count": null,
   "id": "f9722228",
   "metadata": {},
   "outputs": [],
   "source": []
  },
  {
   "cell_type": "code",
   "execution_count": null,
   "id": "fb5eb5e2",
   "metadata": {},
   "outputs": [],
   "source": []
  },
  {
   "cell_type": "code",
   "execution_count": null,
   "id": "c2140a9e",
   "metadata": {},
   "outputs": [],
   "source": []
  }
 ],
 "metadata": {
  "kernelspec": {
   "display_name": "Python 3 (ipykernel)",
   "language": "python",
   "name": "python3"
  },
  "language_info": {
   "codemirror_mode": {
    "name": "ipython",
    "version": 3
   },
   "file_extension": ".py",
   "mimetype": "text/x-python",
   "name": "python",
   "nbconvert_exporter": "python",
   "pygments_lexer": "ipython3",
   "version": "3.9.7"
  }
 },
 "nbformat": 4,
 "nbformat_minor": 5
}
